{
 "cells": [
  {
   "cell_type": "code",
   "execution_count": 1,
   "id": "d85914b3",
   "metadata": {},
   "outputs": [],
   "source": [
    "S=\"Bhargav\""
   ]
  },
  {
   "cell_type": "code",
   "execution_count": 2,
   "id": "046101bd",
   "metadata": {},
   "outputs": [
    {
     "data": {
      "text/plain": [
       "'Bhargav'"
      ]
     },
     "execution_count": 2,
     "metadata": {},
     "output_type": "execute_result"
    }
   ],
   "source": [
    "S"
   ]
  },
  {
   "cell_type": "code",
   "execution_count": 4,
   "id": "5a5d8370",
   "metadata": {},
   "outputs": [
    {
     "data": {
      "text/plain": [
       "'B'"
      ]
     },
     "execution_count": 4,
     "metadata": {},
     "output_type": "execute_result"
    }
   ],
   "source": [
    "S[0]"
   ]
  },
  {
   "cell_type": "code",
   "execution_count": 5,
   "id": "ab764e87",
   "metadata": {},
   "outputs": [
    {
     "data": {
      "text/plain": [
       "'a'"
      ]
     },
     "execution_count": 5,
     "metadata": {},
     "output_type": "execute_result"
    }
   ],
   "source": [
    "S[-5]"
   ]
  },
  {
   "cell_type": "code",
   "execution_count": 6,
   "id": "1ec59bb0",
   "metadata": {},
   "outputs": [
    {
     "data": {
      "text/plain": [
       "'B'"
      ]
     },
     "execution_count": 6,
     "metadata": {},
     "output_type": "execute_result"
    }
   ],
   "source": [
    "S[-7]"
   ]
  },
  {
   "cell_type": "code",
   "execution_count": 7,
   "id": "937d7271",
   "metadata": {},
   "outputs": [
    {
     "data": {
      "text/plain": [
       "'h'"
      ]
     },
     "execution_count": 7,
     "metadata": {},
     "output_type": "execute_result"
    }
   ],
   "source": [
    "S[+1]"
   ]
  },
  {
   "cell_type": "code",
   "execution_count": 8,
   "id": "717d5f9d",
   "metadata": {
    "scrolled": true
   },
   "outputs": [
    {
     "ename": "TypeError",
     "evalue": "can only concatenate str (not \"int\") to str",
     "output_type": "error",
     "traceback": [
      "\u001b[1;31m---------------------------------------------------------------------------\u001b[0m",
      "\u001b[1;31mTypeError\u001b[0m                                 Traceback (most recent call last)",
      "Input \u001b[1;32mIn [8]\u001b[0m, in \u001b[0;36m<cell line: 1>\u001b[1;34m()\u001b[0m\n\u001b[1;32m----> 1\u001b[0m \u001b[43mS\u001b[49m\u001b[38;5;241;43m+\u001b[39;49m\u001b[38;5;241;43m1\u001b[39;49m\n",
      "\u001b[1;31mTypeError\u001b[0m: can only concatenate str (not \"int\") to str"
     ]
    }
   ],
   "source": [
    "S+1"
   ]
  },
  {
   "cell_type": "code",
   "execution_count": 9,
   "id": "d660d9e2",
   "metadata": {},
   "outputs": [
    {
     "data": {
      "text/plain": [
       "'Bhargav1'"
      ]
     },
     "execution_count": 9,
     "metadata": {},
     "output_type": "execute_result"
    }
   ],
   "source": [
    "S+\"1\""
   ]
  },
  {
   "cell_type": "code",
   "execution_count": 11,
   "id": "e09c21f5",
   "metadata": {},
   "outputs": [
    {
     "data": {
      "text/plain": [
       "'Bhargav Nani'"
      ]
     },
     "execution_count": 11,
     "metadata": {},
     "output_type": "execute_result"
    }
   ],
   "source": [
    "\"Bhargav\"+\" \"+\"Nani\""
   ]
  },
  {
   "cell_type": "code",
   "execution_count": 13,
   "id": "7ecddbc5",
   "metadata": {},
   "outputs": [
    {
     "data": {
      "text/plain": [
       "'BhargavBhargav'"
      ]
     },
     "execution_count": 13,
     "metadata": {},
     "output_type": "execute_result"
    }
   ],
   "source": [
    "S*2"
   ]
  },
  {
   "cell_type": "code",
   "execution_count": 14,
   "id": "7b54ea82",
   "metadata": {},
   "outputs": [
    {
     "data": {
      "text/plain": [
       "'Bhargav1'"
      ]
     },
     "execution_count": 14,
     "metadata": {},
     "output_type": "execute_result"
    }
   ],
   "source": [
    "S+str(1)"
   ]
  },
  {
   "cell_type": "code",
   "execution_count": 15,
   "id": "59a59ac5",
   "metadata": {},
   "outputs": [],
   "source": [
    "S1=\"Nani\"\n"
   ]
  },
  {
   "cell_type": "code",
   "execution_count": 16,
   "id": "26d8e120",
   "metadata": {},
   "outputs": [
    {
     "data": {
      "text/plain": [
       "'Nani'"
      ]
     },
     "execution_count": 16,
     "metadata": {},
     "output_type": "execute_result"
    }
   ],
   "source": [
    "S1"
   ]
  },
  {
   "cell_type": "code",
   "execution_count": 18,
   "id": "1f311b8f",
   "metadata": {},
   "outputs": [
    {
     "data": {
      "text/plain": [
       "'a'"
      ]
     },
     "execution_count": 18,
     "metadata": {},
     "output_type": "execute_result"
    }
   ],
   "source": [
    "S1[-3]"
   ]
  },
  {
   "cell_type": "code",
   "execution_count": 19,
   "id": "e9dae72d",
   "metadata": {},
   "outputs": [
    {
     "data": {
      "text/plain": [
       "'Bharga'"
      ]
     },
     "execution_count": 19,
     "metadata": {},
     "output_type": "execute_result"
    }
   ],
   "source": [
    "S[0:6]"
   ]
  },
  {
   "cell_type": "code",
   "execution_count": 20,
   "id": "cef33b76",
   "metadata": {},
   "outputs": [
    {
     "data": {
      "text/plain": [
       "'Bhargav'"
      ]
     },
     "execution_count": 20,
     "metadata": {},
     "output_type": "execute_result"
    }
   ],
   "source": [
    "S[-50:50]"
   ]
  },
  {
   "cell_type": "code",
   "execution_count": 21,
   "id": "bb976ce6",
   "metadata": {},
   "outputs": [
    {
     "data": {
      "text/plain": [
       "''"
      ]
     },
     "execution_count": 21,
     "metadata": {},
     "output_type": "execute_result"
    }
   ],
   "source": [
    "S[50:-50]"
   ]
  },
  {
   "cell_type": "code",
   "execution_count": 26,
   "id": "8a7e4eec",
   "metadata": {},
   "outputs": [
    {
     "data": {
      "text/plain": [
       "''"
      ]
     },
     "execution_count": 26,
     "metadata": {},
     "output_type": "execute_result"
    }
   ],
   "source": [
    "S[-1:-12]"
   ]
  },
  {
   "cell_type": "code",
   "execution_count": 25,
   "id": "c8b39949",
   "metadata": {},
   "outputs": [
    {
     "data": {
      "text/plain": [
       "'rga'"
      ]
     },
     "execution_count": 25,
     "metadata": {},
     "output_type": "execute_result"
    }
   ],
   "source": [
    "S[-4:-1]"
   ]
  },
  {
   "cell_type": "code",
   "execution_count": 28,
   "id": "d1c24082",
   "metadata": {},
   "outputs": [
    {
     "data": {
      "text/plain": [
       "'rg'"
      ]
     },
     "execution_count": 28,
     "metadata": {},
     "output_type": "execute_result"
    }
   ],
   "source": [
    "S[3:-2]"
   ]
  },
  {
   "cell_type": "code",
   "execution_count": 29,
   "id": "55800d38",
   "metadata": {},
   "outputs": [
    {
     "data": {
      "text/plain": [
       "'Bhargav'"
      ]
     },
     "execution_count": 29,
     "metadata": {},
     "output_type": "execute_result"
    }
   ],
   "source": [
    "S[:]"
   ]
  },
  {
   "cell_type": "code",
   "execution_count": 32,
   "id": "dde1a795",
   "metadata": {},
   "outputs": [
    {
     "data": {
      "text/plain": [
       "'Bagv'"
      ]
     },
     "execution_count": 32,
     "metadata": {},
     "output_type": "execute_result"
    }
   ],
   "source": [
    "S[0:7:2]"
   ]
  },
  {
   "cell_type": "code",
   "execution_count": 33,
   "id": "08b955f3",
   "metadata": {},
   "outputs": [
    {
     "data": {
      "text/plain": [
       "'hra'"
      ]
     },
     "execution_count": 33,
     "metadata": {},
     "output_type": "execute_result"
    }
   ],
   "source": [
    "S[-6:-1:2]"
   ]
  },
  {
   "cell_type": "code",
   "execution_count": 34,
   "id": "f5d5092a",
   "metadata": {},
   "outputs": [
    {
     "data": {
      "text/plain": [
       "'harga'"
      ]
     },
     "execution_count": 34,
     "metadata": {},
     "output_type": "execute_result"
    }
   ],
   "source": [
    "S[-6:-1:1]"
   ]
  },
  {
   "cell_type": "code",
   "execution_count": 35,
   "id": "35b0886e",
   "metadata": {},
   "outputs": [
    {
     "data": {
      "text/plain": [
       "'vagrahB'"
      ]
     },
     "execution_count": 35,
     "metadata": {},
     "output_type": "execute_result"
    }
   ],
   "source": [
    "S[::-1]"
   ]
  },
  {
   "cell_type": "code",
   "execution_count": 36,
   "id": "7e43517d",
   "metadata": {},
   "outputs": [
    {
     "data": {
      "text/plain": [
       "7"
      ]
     },
     "execution_count": 36,
     "metadata": {},
     "output_type": "execute_result"
    }
   ],
   "source": [
    "len(S)"
   ]
  },
  {
   "cell_type": "code",
   "execution_count": 40,
   "id": "3eb106f1",
   "metadata": {},
   "outputs": [
    {
     "data": {
      "text/plain": [
       "2"
      ]
     },
     "execution_count": 40,
     "metadata": {},
     "output_type": "execute_result"
    }
   ],
   "source": [
    "S.count(\"a\")"
   ]
  },
  {
   "cell_type": "code",
   "execution_count": 44,
   "id": "168a402c",
   "metadata": {},
   "outputs": [
    {
     "data": {
      "text/plain": [
       "['Bh', 'rg', 'v']"
      ]
     },
     "execution_count": 44,
     "metadata": {},
     "output_type": "execute_result"
    }
   ],
   "source": [
    "S.split(\"a\")"
   ]
  },
  {
   "cell_type": "code",
   "execution_count": 45,
   "id": "fe7d9275",
   "metadata": {},
   "outputs": [
    {
     "data": {
      "text/plain": [
       "'BHARGAV'"
      ]
     },
     "execution_count": 45,
     "metadata": {},
     "output_type": "execute_result"
    }
   ],
   "source": [
    "S.upper()"
   ]
  },
  {
   "cell_type": "code",
   "execution_count": 46,
   "id": "99a78d79",
   "metadata": {},
   "outputs": [
    {
     "data": {
      "text/plain": [
       "'bhargav'"
      ]
     },
     "execution_count": 46,
     "metadata": {},
     "output_type": "execute_result"
    }
   ],
   "source": [
    "S.lower()"
   ]
  },
  {
   "cell_type": "code",
   "execution_count": 47,
   "id": "44536cf1",
   "metadata": {},
   "outputs": [
    {
     "data": {
      "text/plain": [
       "'Bhargav'"
      ]
     },
     "execution_count": 47,
     "metadata": {},
     "output_type": "execute_result"
    }
   ],
   "source": [
    "S.title()"
   ]
  },
  {
   "cell_type": "code",
   "execution_count": 48,
   "id": "46498f51",
   "metadata": {},
   "outputs": [
    {
     "data": {
      "text/plain": [
       "'Bhargav'"
      ]
     },
     "execution_count": 48,
     "metadata": {},
     "output_type": "execute_result"
    }
   ],
   "source": [
    "S.capitalize()"
   ]
  },
  {
   "cell_type": "code",
   "execution_count": 49,
   "id": "ef3de9b3",
   "metadata": {},
   "outputs": [],
   "source": [
    "s12=\"bhargav nani\""
   ]
  },
  {
   "cell_type": "code",
   "execution_count": 50,
   "id": "21fca220",
   "metadata": {},
   "outputs": [
    {
     "data": {
      "text/plain": [
       "'Bhargav nani'"
      ]
     },
     "execution_count": 50,
     "metadata": {},
     "output_type": "execute_result"
    }
   ],
   "source": [
    "s12.capitalize()"
   ]
  },
  {
   "cell_type": "code",
   "execution_count": 51,
   "id": "5704ec87",
   "metadata": {},
   "outputs": [
    {
     "data": {
      "text/plain": [
       "'Bhargav Nani'"
      ]
     },
     "execution_count": 51,
     "metadata": {},
     "output_type": "execute_result"
    }
   ],
   "source": [
    "s12.title()"
   ]
  },
  {
   "cell_type": "code",
   "execution_count": 52,
   "id": "e1a2cad1",
   "metadata": {},
   "outputs": [],
   "source": [
    "s3=\"BharGAv\""
   ]
  },
  {
   "cell_type": "code",
   "execution_count": 53,
   "id": "bf1782f3",
   "metadata": {},
   "outputs": [
    {
     "data": {
      "text/plain": [
       "'bHARgaV'"
      ]
     },
     "execution_count": 53,
     "metadata": {},
     "output_type": "execute_result"
    }
   ],
   "source": [
    "s3.swapcase()"
   ]
  },
  {
   "cell_type": "code",
   "execution_count": 54,
   "id": "567856d6",
   "metadata": {},
   "outputs": [],
   "source": [
    "s4=\"       Bhargav nani      \""
   ]
  },
  {
   "cell_type": "code",
   "execution_count": 56,
   "id": "7f953ff1",
   "metadata": {},
   "outputs": [
    {
     "data": {
      "text/plain": [
       "'Bhargav nani'"
      ]
     },
     "execution_count": 56,
     "metadata": {},
     "output_type": "execute_result"
    }
   ],
   "source": [
    "s4.strip()"
   ]
  },
  {
   "cell_type": "code",
   "execution_count": 57,
   "id": "3007a4aa",
   "metadata": {},
   "outputs": [
    {
     "data": {
      "text/plain": [
       "'Bhargav nani      '"
      ]
     },
     "execution_count": 57,
     "metadata": {},
     "output_type": "execute_result"
    }
   ],
   "source": [
    "s4.lstrip()"
   ]
  },
  {
   "cell_type": "code",
   "execution_count": 58,
   "id": "52ebf22c",
   "metadata": {},
   "outputs": [
    {
     "data": {
      "text/plain": [
       "'       Bhargav nani'"
      ]
     },
     "execution_count": 58,
     "metadata": {},
     "output_type": "execute_result"
    }
   ],
   "source": [
    "s4.rstrip()"
   ]
  },
  {
   "cell_type": "code",
   "execution_count": 60,
   "id": "7a050d8d",
   "metadata": {},
   "outputs": [
    {
     "data": {
      "text/plain": [
       "'%%       Bhargav nani      %%%'"
      ]
     },
     "execution_count": 60,
     "metadata": {},
     "output_type": "execute_result"
    }
   ],
   "source": [
    "s4.center(30,\"%\")"
   ]
  },
  {
   "cell_type": "code",
   "execution_count": 63,
   "id": "5794bc5d",
   "metadata": {},
   "outputs": [
    {
     "data": {
      "text/plain": [
       "'++       Bhargav nani      +++'"
      ]
     },
     "execution_count": 63,
     "metadata": {},
     "output_type": "execute_result"
    }
   ],
   "source": [
    "s4.center(30,\"+\")"
   ]
  },
  {
   "cell_type": "code",
   "execution_count": 64,
   "id": "4b81d713",
   "metadata": {},
   "outputs": [
    {
     "data": {
      "text/plain": [
       "'*'"
      ]
     },
     "execution_count": 64,
     "metadata": {},
     "output_type": "execute_result"
    }
   ],
   "source": [
    "s4.join(\"*\")"
   ]
  },
  {
   "cell_type": "code",
   "execution_count": 65,
   "id": "5577edad",
   "metadata": {},
   "outputs": [
    {
     "data": {
      "text/plain": [
       "'       Bhargav nani      '"
      ]
     },
     "execution_count": 65,
     "metadata": {},
     "output_type": "execute_result"
    }
   ],
   "source": [
    "s4"
   ]
  },
  {
   "cell_type": "code",
   "execution_count": 66,
   "id": "f8cb2495",
   "metadata": {},
   "outputs": [],
   "source": [
    "s5=\"Bhargav nani\""
   ]
  },
  {
   "cell_type": "code",
   "execution_count": 67,
   "id": "f7ef3126",
   "metadata": {},
   "outputs": [
    {
     "data": {
      "text/plain": [
       "'*'"
      ]
     },
     "execution_count": 67,
     "metadata": {},
     "output_type": "execute_result"
    }
   ],
   "source": [
    "s5.join(\"*\")"
   ]
  },
  {
   "cell_type": "code",
   "execution_count": 68,
   "id": "1d673f49",
   "metadata": {},
   "outputs": [
    {
     "data": {
      "text/plain": [
       "'B*h*a*r*g*a*v* *n*a*n*i'"
      ]
     },
     "execution_count": 68,
     "metadata": {},
     "output_type": "execute_result"
    }
   ],
   "source": [
    "\"*\".join(s5)"
   ]
  },
  {
   "cell_type": "code",
   "execution_count": null,
   "id": "91730222",
   "metadata": {},
   "outputs": [],
   "source": []
  }
 ],
 "metadata": {
  "kernelspec": {
   "display_name": "Python 3 (ipykernel)",
   "language": "python",
   "name": "python3"
  },
  "language_info": {
   "codemirror_mode": {
    "name": "ipython",
    "version": 3
   },
   "file_extension": ".py",
   "mimetype": "text/x-python",
   "name": "python",
   "nbconvert_exporter": "python",
   "pygments_lexer": "ipython3",
   "version": "3.9.12"
  }
 },
 "nbformat": 4,
 "nbformat_minor": 5
}
